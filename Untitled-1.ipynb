{
 "cells": [
  {
   "cell_type": "code",
   "execution_count": 2,
   "id": "48f77b77",
   "metadata": {},
   "outputs": [],
   "source": [
    "import requests"
   ]
  },
  {
   "cell_type": "code",
   "execution_count": 3,
   "id": "cecd3c16",
   "metadata": {},
   "outputs": [],
   "source": [
    "BASE_URL = \"http://localhost:8000\"\n",
    "# 测试接口路径\n",
    "TEST_ENDPOINT = f\"{BASE_URL}/insurance/question-inquiry\""
   ]
  },
  {
   "cell_type": "code",
   "execution_count": null,
   "id": "a970bacf",
   "metadata": {},
   "outputs": [],
   "source": []
  },
  {
   "cell_type": "code",
   "execution_count": null,
   "id": "4acabc07",
   "metadata": {},
   "outputs": [],
   "source": [
    "payload = {\n",
    "        \"user_id\": \"test_user_01\",\n",
    "        \"user_question\": \"移小保平安险都保什么\",\n",
    "        \"stream\": False\n",
    "    }\n",
    "response = requests.post(TEST_ENDPOINT, json=payload, timeout=180)\n",
    "\n",
    "print(response.json())\n"
   ]
  },
  {
   "cell_type": "code",
   "execution_count": null,
   "id": "e98ce84c",
   "metadata": {},
   "outputs": [],
   "source": []
  }
 ],
 "metadata": {
  "kernelspec": {
   "display_name": "Python 3",
   "language": "python",
   "name": "python3"
  },
  "language_info": {
   "codemirror_mode": {
    "name": "ipython",
    "version": 3
   },
   "file_extension": ".py",
   "mimetype": "text/x-python",
   "name": "python",
   "nbconvert_exporter": "python",
   "pygments_lexer": "ipython3",
   "version": "3.13.3"
  }
 },
 "nbformat": 4,
 "nbformat_minor": 5
}
